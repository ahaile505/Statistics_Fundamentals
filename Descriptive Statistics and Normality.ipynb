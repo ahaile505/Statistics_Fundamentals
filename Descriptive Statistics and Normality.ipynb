{
 "cells": [
  {
   "cell_type": "code",
   "execution_count": 2,
   "metadata": {},
   "outputs": [],
   "source": [
    "%matplotlib inline\n",
    "\n",
    "import numpy as np\n",
    "import pandas as pd\n",
    "import matplotlib.pyplot as plt"
   ]
  },
  {
   "cell_type": "code",
   "execution_count": 4,
   "metadata": {},
   "outputs": [
    {
     "data": {
      "text/html": [
       "<div>\n",
       "<style scoped>\n",
       "    .dataframe tbody tr th:only-of-type {\n",
       "        vertical-align: middle;\n",
       "    }\n",
       "\n",
       "    .dataframe tbody tr th {\n",
       "        vertical-align: top;\n",
       "    }\n",
       "\n",
       "    .dataframe thead th {\n",
       "        text-align: right;\n",
       "    }\n",
       "</style>\n",
       "<table border=\"1\" class=\"dataframe\">\n",
       "  <thead>\n",
       "    <tr style=\"text-align: right;\">\n",
       "      <th></th>\n",
       "    </tr>\n",
       "  </thead>\n",
       "  <tbody>\n",
       "  </tbody>\n",
       "</table>\n",
       "</div>"
      ],
      "text/plain": [
       "Empty DataFrame\n",
       "Columns: []\n",
       "Index: []"
      ]
     },
     "execution_count": 4,
     "metadata": {},
     "output_type": "execute_result"
    }
   ],
   "source": [
    "df=pd.DataFrame()\n",
    "df"
   ]
  },
  {
   "cell_type": "code",
   "execution_count": 26,
   "metadata": {},
   "outputs": [
    {
     "data": {
      "image/png": "[encoded data removed]",
      "text/plain": [
       "<Figure size 432x288 with 1 Axes>"
      ]
     },
     "metadata": {
      "needs_background": "light"
     },
     "output_type": "display_data"
    }
   ],
   "source": [
    "exponential=np.random.exponential(1,100)\n",
    "\n",
    "plt.hist(exponential, alpha=0.5)\n",
    "\n",
    "plt.axvline(exponential.mean(), color='r', linestyle='solid',linewidth=2)\n",
    "plt.axvline(exponential.mean()+exponential.std(),color='k',linestyle='dashed',linewidth=2)\n",
    "plt.axvline(exponential.mean()-exponential.std(),color='k',linestyle='dashed',linewidth=2)\n",
    "\n",
    "plt.show()"
   ]
  },
  {
   "cell_type": "markdown",
   "metadata": {},
   "source": [
    "In this distribution, we are not able to use the mean and std to decribe the data as the data is not evenly distributed belove and above the mean. These types of distributions are called poisson distribution or exponential distribution. These distributions can be used to describe the number of events that occure within given time. "
   ]
  },
  {
   "cell_type": "code",
   "execution_count": 27,
   "metadata": {},
   "outputs": [
    {
     "data": {
      "image/png": "[encoded data removed]",
      "text/plain": [
       "<Figure size 432x288 with 1 Axes>"
      ]
     },
     "metadata": {
      "needs_background": "light"
     },
     "output_type": "display_data"
    }
   ],
   "source": [
    "#Genrate two normal distributions\n",
    "normal=np.random.normal(5,0.5,100)\n",
    "normal2=np.random.normal(10,1,100)\n",
    "\n",
    "#add the normal distributions\n",
    "add_normal=normal+normal2\n",
    "\n",
    "#plot histogram of the added values\n",
    "plt.hist(add_normal)\n",
    "\n",
    "#compute mean and std of the added sum values of the normal distribution\n",
    "plt.axvline(add_normal.mean(),color='r',linestyle='solid',linewidth=2)\n",
    "plt.axvline(add_normal.mean()+add_normal.std(),color='g',linestyle='dashed',linewidth=2)\n",
    "plt.axvline(add_normal.mean()-add_normal.std(),color='g',linestyle='dashed',linewidth=2)\n",
    "\n",
    "plt.show()"
   ]
  },
  {
   "cell_type": "markdown",
   "metadata": {},
   "source": [
    "The data shows that is it taking the mean and std from each normal distrubution and adding the values resulting\n",
    "in mean value of 15 and std value of 1.5. The mean is in the middle of the data where the custer is, as well as 50% of the data falls on either side of the mean."
   ]
  }
 ],
 "metadata": {
  "kernelspec": {
   "display_name": "Python 3",
   "language": "python",
   "name": "python3"
  },
  "language_info": {
   "codemirror_mode": {
    "name": "ipython",
    "version": 3
   },
   "file_extension": ".py",
   "mimetype": "text/x-python",
   "name": "python",
   "nbconvert_exporter": "python",
   "pygments_lexer": "ipython3",
   "version": "3.7.2"
  }
 },
 "nbformat": 4,
 "nbformat_minor": 2
}
