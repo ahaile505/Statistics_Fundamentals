{
 "cells": [
  {
   "cell_type": "code",
   "execution_count": 3,
   "metadata": {},
   "outputs": [],
   "source": [
    "%matplotlib inline\n",
    "\n",
    "import numpy as np\n",
    "import pandas as pd\n",
    "import matplotlib.pyplot as plt "
   ]
  },
  {
   "cell_type": "code",
   "execution_count": null,
   "metadata": {},
   "outputs": [],
   "source": []
  },
  {
   "cell_type": "code",
   "execution_count": 51,
   "metadata": {},
   "outputs": [
    {
     "data": {
      "image/png": "[encoded data removed]",
      "text/plain": [
       "<Figure size 432x288 with 1 Axes>"
      ]
     },
     "metadata": {
      "needs_background": "light"
     },
     "output_type": "display_data"
    }
   ],
   "source": [
    "#generate random number using binomial function\n",
    "pop1=np.random.binomial(10,0.2,10000)\n",
    "pop2=np.random.binomial(10,0.5,10000)\n",
    "\n",
    "plt.hist(pop1,label='Population 1',alpha=0.5)\n",
    "plt.hist(pop2,label='Population 2',alpha=0.5)\n",
    "plt.legend(loc='upper right')\n",
    "\n",
    "plt.show()\n"
   ]
  },
  {
   "cell_type": "markdown",
   "metadata": {},
   "source": [
    "Increase the size of your samples from 100 to 1000, then calculate the means and standard deviations for \n",
    "your new samples and create histograms for each. Repeat this again, decreasing the size of your samples to 20. \n",
    "What values change, and what remain the same?"
   ]
  },
  {
   "cell_type": "code",
   "execution_count": 55,
   "metadata": {},
   "outputs": [
    {
     "name": "stdout",
     "output_type": "stream",
     "text": [
      "1.95\n",
      "1.291317157014496\n",
      "4.84\n",
      "1.6656530250925612\n"
     ]
    }
   ],
   "source": [
    "#Generate samples of 100 from each population \n",
    "sample1=np.random.choice(pop1,100,replace=True)\n",
    "sample2=np.random.choice(pop2,100,replace=True)\n",
    "\n",
    "print(sample1.mean())\n",
    "print(sample1.std())\n",
    "print(sample2.mean())\n",
    "print(sample2.std())"
   ]
  },
  {
   "cell_type": "code",
   "execution_count": 54,
   "metadata": {
    "scrolled": true
   },
   "outputs": [
    {
     "data": {
      "image/png": "[encoded data removed]",
      "text/plain": [
       "<Figure size 432x288 with 1 Axes>"
      ]
     },
     "metadata": {
      "needs_background": "light"
     },
     "output_type": "display_data"
    },
    {
     "name": "stdout",
     "output_type": "stream",
     "text": [
      "1.978\n",
      "1.2773081069186087\n",
      "4.911\n",
      "1.5430745283362044\n"
     ]
    }
   ],
   "source": [
    "#increase the sample size to 1000\n",
    "sample1=np.random.choice(pop1,1000,replace=True)\n",
    "sample2=np.random.choice(pop2,1000,replace=True)\n",
    "\n",
    "plt.hist(sample1,label='sample1',alpha=0.5)\n",
    "plt.hist(sample2,label='sample2',alpha=0.5)\n",
    "plt.legend(loc='upper right')\n",
    "\n",
    "plt.show()\n",
    "\n",
    "print(sample1.mean())\n",
    "print(sample1.std())\n",
    "print(sample2.mean())\n",
    "print(sample2.std())\n"
   ]
  },
  {
   "cell_type": "markdown",
   "metadata": {},
   "source": [
    "Answer: Here when we increased the sample size the std remaind relatively the same while the mean of the value increase. Which could explain the increase the distribution of the total population as the extream lows and extream high increase and decrease. \n",
    "\n",
    "The sample populations overlap more in the histogram when we computer larger samples compared to smaller samples. "
   ]
  },
  {
   "cell_type": "code",
   "execution_count": 53,
   "metadata": {},
   "outputs": [
    {
     "data": {
      "image/png": "[encoded data removed]",
      "text/plain": [
       "<Figure size 432x288 with 1 Axes>"
      ]
     },
     "metadata": {
      "needs_background": "light"
     },
     "output_type": "display_data"
    },
    {
     "name": "stdout",
     "output_type": "stream",
     "text": [
      "1.8\n",
      "1.5684387141358123\n",
      "5.15\n",
      "1.1521718621802914\n"
     ]
    }
   ],
   "source": [
    "#increase the sample size to 1000\n",
    "sample1=np.random.choice(pop1,20,replace=True)\n",
    "sample2=np.random.choice(pop2,20,replace=True)\n",
    "\n",
    "plt.hist(sample1,label='sample1',alpha=0.5)\n",
    "plt.hist(sample2,label='sample2',alpha=0.5)\n",
    "plt.legend(loc='upper right')\n",
    "\n",
    "plt.show()\n",
    "\n",
    "print(sample1.mean())\n",
    "print(sample1.std())\n",
    "print(sample2.mean())\n",
    "print(sample2.std())"
   ]
  },
  {
   "cell_type": "markdown",
   "metadata": {},
   "source": [
    "Answer: when we decrease the sample size to 20,the mean of the samples remained relatively the same while the std increased or decrease by little."
   ]
  },
  {
   "cell_type": "markdown",
   "metadata": {},
   "source": [
    "Change the probability value (p in the NumPy documentation) for pop1 to 0.3, then take new samples and compute the t-statistic and p-value. Then change the probability value p for group 1 to 0.4, and do it again. What changes, and why?"
   ]
  },
  {
   "cell_type": "code",
   "execution_count": 65,
   "metadata": {},
   "outputs": [
    {
     "name": "stdout",
     "output_type": "stream",
     "text": [
      "2.82\n",
      "1.6393901305058538\n",
      "4.93\n",
      "1.4300699283601483\n"
     ]
    }
   ],
   "source": [
    "pop1=np.random.binomial(10,0.3,10000)\n",
    "pop2=np.random.binomial(10,0.5,10000)\n",
    "\n",
    "sample1=np.random.choice(pop1,100,replace=True)\n",
    "sample2=np.random.choice(pop2,100,replace=True)\n",
    "\n",
    "print(sample1.mean())\n",
    "print(sample1.std())\n",
    "print(sample2.mean())\n",
    "print(sample2.std())"
   ]
  },
  {
   "cell_type": "code",
   "execution_count": 66,
   "metadata": {},
   "outputs": [
    {
     "data": {
      "text/plain": [
       "2.11"
      ]
     },
     "execution_count": 66,
     "metadata": {},
     "output_type": "execute_result"
    }
   ],
   "source": [
    "sample_diff=sample2.mean()-sample1.mean()\n",
    "sample_diff"
   ]
  },
  {
   "cell_type": "code",
   "execution_count": 67,
   "metadata": {},
   "outputs": [
    {
     "name": "stdout",
     "output_type": "stream",
     "text": [
      "0.21754769591976836\n",
      "9.699022511266534\n"
     ]
    }
   ],
   "source": [
    "size_array=np.array([len(sample1),len(sample2)])\n",
    "std_array=np.array([sample1.std(),sample2.std()])\n",
    "\n",
    "diff_se=sum(std_array **2/size_array) **0.5\n",
    "\n",
    "print(diff_se)\n",
    "\n",
    "#calculate the T-value \n",
    "\n",
    "print(sample_diff/diff_se)"
   ]
  },
  {
   "cell_type": "code",
   "execution_count": 68,
   "metadata": {},
   "outputs": [
    {
     "data": {
      "text/plain": [
       "Ttest_indResult(statistic=9.6504055509245, pvalue=2.9805798071622664e-18)"
      ]
     },
     "execution_count": 68,
     "metadata": {},
     "output_type": "execute_result"
    }
   ],
   "source": [
    "from scipy.stats import ttest_ind\n",
    "\n",
    "ttest_ind(sample2,sample1,equal_var=False)"
   ]
  },
  {
   "cell_type": "code",
   "execution_count": 69,
   "metadata": {},
   "outputs": [
    {
     "name": "stdout",
     "output_type": "stream",
     "text": [
      "3.64\n",
      "1.5134067529914093\n",
      "5.04\n",
      "1.6965848048358798\n"
     ]
    }
   ],
   "source": [
    "pop1=np.random.binomial(10,0.4,10000)\n",
    "pop2=np.random.binomial(10,0.5,10000)\n",
    "\n",
    "sample1=np.random.choice(pop1,100,replace=True)\n",
    "sample2=np.random.choice(pop2,100,replace=True)\n",
    "print(sample1.mean())\n",
    "print(sample1.std())\n",
    "print(sample2.mean())\n",
    "print(sample2.std())\n"
   ]
  },
  {
   "cell_type": "code",
   "execution_count": 70,
   "metadata": {},
   "outputs": [
    {
     "name": "stdout",
     "output_type": "stream",
     "text": [
      "1.4\n",
      "0.22734995051681892\n",
      "6.157907652134855\n"
     ]
    }
   ],
   "source": [
    "sample_diff=sample2.mean()-sample1.mean()\n",
    "\n",
    "print(sample_diff)\n",
    "\n",
    "size_array=np.array([len(sample1),len(sample2)])\n",
    "std_array=np.array([sample1.std(),sample2.std()])\n",
    "\n",
    "diff_se=sum(std_array **2/size_array)**0.5\n",
    "\n",
    "print(diff_se)\n",
    "\n",
    "#calculate the T-value \n",
    "\n",
    "print(sample_diff/diff_se)\n"
   ]
  },
  {
   "cell_type": "code",
   "execution_count": 71,
   "metadata": {
    "scrolled": true
   },
   "outputs": [
    {
     "data": {
      "text/plain": [
       "Ttest_indResult(statistic=6.127040752736903, pvalue=4.838845403214287e-09)"
      ]
     },
     "execution_count": 71,
     "metadata": {},
     "output_type": "execute_result"
    }
   ],
   "source": [
    "ttest_ind(sample2,sample1,equal_var=False)"
   ]
  },
  {
   "cell_type": "markdown",
   "metadata": {},
   "source": [
    "Answer: The t-value decreased while the pvalue increased as we change the parameter probablity in the binomial\n",
    "    distribution from 0.3 to 0.4 in population 1. The decrease in the t-value could be that in the popuation with \n",
    "    0.4 probablity value has more variance. "
   ]
  },
  {
   "cell_type": "markdown",
   "metadata": {},
   "source": [
    "Change the distribution of your populations from binomial to a distribution of your choice. Do the sample mean values still accurately represent the population values?"
   ]
  },
  {
   "cell_type": "code",
   "execution_count": 81,
   "metadata": {},
   "outputs": [
    {
     "data": {
      "image/png": "[encoded data removed]",
      "text/plain": [
       "<Figure size 432x288 with 1 Axes>"
      ]
     },
     "metadata": {
      "needs_background": "light"
     },
     "output_type": "display_data"
    }
   ],
   "source": [
    "#generate random number using binomial function\n",
    "pop1=np.random.poisson(10,10000)\n",
    "pop2=np.random.poisson(5,10000)\n",
    "\n",
    "plt.hist(pop1,label='Population 1',alpha=0.5)\n",
    "plt.hist(pop2,label='Population 2',alpha=0.5)\n",
    "plt.legend(loc='upper right')\n",
    "\n",
    "plt.show()"
   ]
  },
  {
   "cell_type": "code",
   "execution_count": 82,
   "metadata": {},
   "outputs": [
    {
     "name": "stdout",
     "output_type": "stream",
     "text": [
      "9.82\n",
      "3.299636343599095\n",
      "4.99\n",
      "2.2999782607668275\n"
     ]
    }
   ],
   "source": [
    "sample1=np.random.choice(pop1,100,replace=True)\n",
    "sample2=np.random.choice(pop2,100,replace=True)\n",
    "\n",
    "print(sample1.mean())\n",
    "print(sample1.std())\n",
    "print(sample2.mean())\n",
    "print(sample2.std())"
   ]
  },
  {
   "cell_type": "code",
   "execution_count": 89,
   "metadata": {},
   "outputs": [
    {
     "name": "stdout",
     "output_type": "stream",
     "text": [
      "-4.4799999999999995\n",
      "0.38032617580177147\n",
      "-11.779362781316964\n"
     ]
    }
   ],
   "source": [
    "sample_diff=sample2.mean()-sample1.mean()\n",
    "\n",
    "print(sample_diff)\n",
    "\n",
    "size_array=np.array([len(sample1),len(sample2)])\n",
    "std_array=np.array([sample1.std(),sample2.std()])\n",
    "\n",
    "diff_se=sum(std_array **2/size_array) **0.5\n",
    "\n",
    "print(diff_se)\n",
    "\n",
    "#calculate the T-value \n",
    "\n",
    "print(sample_diff/diff_se)"
   ]
  },
  {
   "cell_type": "code",
   "execution_count": 90,
   "metadata": {},
   "outputs": [
    {
     "data": {
      "text/plain": [
       "Ttest_indResult(statistic=-11.720317984531672, pvalue=2.623361847325129e-24)"
      ]
     },
     "execution_count": 90,
     "metadata": {},
     "output_type": "execute_result"
    }
   ],
   "source": [
    "ttest_ind(sample2,sample1,equal_var=False)"
   ]
  },
  {
   "cell_type": "markdown",
   "metadata": {},
   "source": [
    "Answer: The t-test value being negative indicates that the difference between the means of the populations is \n",
    "    significant. "
   ]
  }
 ],
 "metadata": {
  "kernelspec": {
   "display_name": "Python 3",
   "language": "python",
   "name": "python3"
  },
  "language_info": {
   "codemirror_mode": {
    "name": "ipython",
    "version": 3
   },
   "file_extension": ".py",
   "mimetype": "text/x-python",
   "name": "python",
   "nbconvert_exporter": "python",
   "pygments_lexer": "ipython3",
   "version": "3.7.2"
  }
 },
 "nbformat": 4,
 "nbformat_minor": 2
}
